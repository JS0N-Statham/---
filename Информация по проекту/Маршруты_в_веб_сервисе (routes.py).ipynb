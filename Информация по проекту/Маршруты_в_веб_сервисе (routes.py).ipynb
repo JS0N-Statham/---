{
  "nbformat": 4,
  "nbformat_minor": 0,
  "metadata": {
    "colab": {
      "provenance": [],
      "collapsed_sections": [
        "D5A2knDK68Bu",
        "cMD2BQxM78hs",
        "552Qov1S8Haf",
        "1ocdVs578bQQ",
        "_aHnf6hD9tFP",
        "VJKFlRYz-C5E",
        "-iDxzG8jAHMK",
        "_U8ZT2bTAou5"
      ]
    },
    "kernelspec": {
      "name": "python3",
      "display_name": "Python 3"
    },
    "language_info": {
      "name": "python"
    }
  },
  "cells": [
    {
      "cell_type": "markdown",
      "source": [
        "# **Импорт библиотек и модулей**"
      ],
      "metadata": {
        "id": "D5A2knDK68Bu"
      }
    },
    {
      "cell_type": "code",
      "execution_count": null,
      "metadata": {
        "id": "fC3gvSHG6v3Z"
      },
      "outputs": [],
      "source": [
        "import json"
      ]
    },
    {
      "cell_type": "markdown",
      "source": [
        "Импортируем модуль json для работы с JSON-данными.\n",
        "\n"
      ],
      "metadata": {
        "id": "F4-eCf8467iz"
      }
    },
    {
      "cell_type": "code",
      "source": [
        "from flask import Blueprint, render_template, request, redirect, url_for, flash, session, current_app\n"
      ],
      "metadata": {
        "id": "ythr_AtO6xd6"
      },
      "execution_count": null,
      "outputs": []
    },
    {
      "cell_type": "markdown",
      "source": [
        "Импортируем необходимые функции и классы из Flask: Blueprint для создания блупринта, render_template для рендеринга HTML-шаблонов, request для работы с данными запроса, redirect для перенаправления пользователя, url_for для построения URL по имени маршрута, flash для отображения временных сообщений пользователю, session для работы с сессиями и current_app для доступа к текущему приложению."
      ],
      "metadata": {
        "id": "vQ9V00ZE6xuK"
      }
    },
    {
      "cell_type": "code",
      "source": [
        "from .models import get_db_connection\n"
      ],
      "metadata": {
        "id": "YdX8DlaY6x6u"
      },
      "execution_count": null,
      "outputs": []
    },
    {
      "cell_type": "markdown",
      "source": [
        "Импортируем функцию get_db_connection из модуля models, которая используется для получения соединения с базой данных."
      ],
      "metadata": {
        "id": "hqOKLtkb6yGO"
      }
    },
    {
      "cell_type": "code",
      "source": [
        "import random\n"
      ],
      "metadata": {
        "id": "A418SEMM6yPz"
      },
      "execution_count": null,
      "outputs": []
    },
    {
      "cell_type": "markdown",
      "source": [
        "Импортируем модуль random для генерации случайных чисел. пригодится когда будем создавать 6-ти значный код для получения расходника со склада (как в пункте выдачи Ozon, пользователю необходимо сказать 6 цифр чтобы товар списался со склада)"
      ],
      "metadata": {
        "id": "qYsL8FkC6yag"
      }
    },
    {
      "cell_type": "code",
      "source": [
        "from datetime import datetime\n"
      ],
      "metadata": {
        "id": "678-2fIf6yj5"
      },
      "execution_count": null,
      "outputs": []
    },
    {
      "cell_type": "markdown",
      "source": [
        "Импортируем datetime из модуля datetime для работы с датой и временем. (время получения расходника)\n",
        "\n"
      ],
      "metadata": {
        "id": "3NpifUBs6ysK"
      }
    },
    {
      "cell_type": "markdown",
      "source": [
        "# **Создание блупринта**"
      ],
      "metadata": {
        "id": "cMD2BQxM78hs"
      }
    },
    {
      "cell_type": "code",
      "source": [
        "main = Blueprint('main', __name__)\n"
      ],
      "metadata": {
        "id": "EfOY573N6yzE"
      },
      "execution_count": null,
      "outputs": []
    },
    {
      "cell_type": "markdown",
      "source": [
        "Создаем блупринт main, который будет содержать все маршруты приложения.\n",
        "\n"
      ],
      "metadata": {
        "id": "WY72Um1Y6y5k"
      }
    },
    {
      "cell_type": "markdown",
      "source": [
        "# **Маршрут для перенаправления на страницу логина**\n"
      ],
      "metadata": {
        "id": "552Qov1S8Haf"
      }
    },
    {
      "cell_type": "code",
      "source": [
        "@main.route('/')\n"
      ],
      "metadata": {
        "id": "MOX0Qw6R6zOt"
      },
      "execution_count": null,
      "outputs": []
    },
    {
      "cell_type": "markdown",
      "source": [
        "Декоратор для маршрута /."
      ],
      "metadata": {
        "id": "IuBZq-5E6zn1"
      }
    },
    {
      "cell_type": "code",
      "source": [
        "def index():\n"
      ],
      "metadata": {
        "id": "wVQyRJKG6zw7"
      },
      "execution_count": null,
      "outputs": []
    },
    {
      "cell_type": "markdown",
      "source": [
        "Определяем функцию index."
      ],
      "metadata": {
        "id": "y7WzS4X56z4I"
      }
    },
    {
      "cell_type": "code",
      "source": [
        "    return redirect(url_for('main.login'))\n"
      ],
      "metadata": {
        "id": "nOdUcNyS60A2"
      },
      "execution_count": null,
      "outputs": []
    },
    {
      "cell_type": "markdown",
      "source": [
        "Перенаправляем пользователя на страницу логина.\n",
        "\n"
      ],
      "metadata": {
        "id": "I304wsvJ60I6"
      }
    },
    {
      "cell_type": "markdown",
      "source": [
        "\n",
        "# **Маршрут для логина**"
      ],
      "metadata": {
        "id": "1ocdVs578bQQ"
      }
    },
    {
      "cell_type": "code",
      "source": [
        "@main.route('/login', methods=['GET', 'POST'])\n"
      ],
      "metadata": {
        "id": "bFpsfu6Y60RE"
      },
      "execution_count": null,
      "outputs": []
    },
    {
      "cell_type": "markdown",
      "source": [
        "Декоратор для маршрута /login, поддерживает методы GET и POST.\n",
        "\n"
      ],
      "metadata": {
        "id": "k6CZ-0FL60Z-"
      }
    },
    {
      "cell_type": "code",
      "source": [
        "def login():\n"
      ],
      "metadata": {
        "id": "X4KOP3ms60iS"
      },
      "execution_count": null,
      "outputs": []
    },
    {
      "cell_type": "markdown",
      "source": [
        "Определяем функцию login."
      ],
      "metadata": {
        "id": "u5NuO4H560qT"
      }
    },
    {
      "cell_type": "code",
      "source": [
        "    if request.method == 'POST':\n"
      ],
      "metadata": {
        "id": "uVBYSqOb60yU"
      },
      "execution_count": null,
      "outputs": []
    },
    {
      "cell_type": "markdown",
      "source": [
        "Проверяем, является ли метод запроса POST."
      ],
      "metadata": {
        "id": "Prl1kDC5607B"
      }
    },
    {
      "cell_type": "code",
      "source": [
        "        username = request.form['username']\n"
      ],
      "metadata": {
        "id": "anGtzWZa61Dh"
      },
      "execution_count": null,
      "outputs": []
    },
    {
      "cell_type": "markdown",
      "source": [
        "Извлекаем значение password из данных формы."
      ],
      "metadata": {
        "id": "_8vS07Mg61L-"
      }
    },
    {
      "cell_type": "code",
      "source": [
        "        with get_db_connection() as connection:\n"
      ],
      "metadata": {
        "id": "rYDpzoQK61UW"
      },
      "execution_count": null,
      "outputs": []
    },
    {
      "cell_type": "markdown",
      "source": [
        "Получаем соединение с базой данных."
      ],
      "metadata": {
        "id": "zSdsy53E61dK"
      }
    },
    {
      "cell_type": "code",
      "source": [
        "            with connection.cursor() as cursor:\n"
      ],
      "metadata": {
        "id": "t5gCttO861lr"
      },
      "execution_count": null,
      "outputs": []
    },
    {
      "cell_type": "markdown",
      "source": [
        "Создаем курсор для выполнения запросов к базе данных."
      ],
      "metadata": {
        "id": "TYB5T3hL61uT"
      }
    },
    {
      "cell_type": "code",
      "source": [
        "                query = (\n",
        "                    \"SELECT id, JSON_UNQUOTE(JSON_EXTRACT(data, '$.name_users')) AS name_users, JSON_UNQUOTE(JSON_EXTRACT(data, '$.password')) AS password \"\n",
        "                    \"FROM users WHERE JSON_UNQUOTE(JSON_EXTRACT(data, '$.name_users')) = %s AND JSON_UNQUOTE(JSON_EXTRACT(data, '$.password')) = %s\")\n"
      ],
      "metadata": {
        "id": "HLnHG1aQ616c"
      },
      "execution_count": null,
      "outputs": []
    },
    {
      "cell_type": "markdown",
      "source": [
        "Определяем SQL-запрос для проверки учетных данных пользователя.\n",
        "\n"
      ],
      "metadata": {
        "id": "o2gc0fz562EU"
      }
    },
    {
      "cell_type": "code",
      "source": [
        "                cursor.execute(query, (username, password))\n"
      ],
      "metadata": {
        "id": "EIBdW1se62Mi"
      },
      "execution_count": null,
      "outputs": []
    },
    {
      "cell_type": "markdown",
      "source": [
        "Выполняем SQL-запрос с параметрами username и password."
      ],
      "metadata": {
        "id": "LeL7jrjM62UI"
      }
    },
    {
      "cell_type": "code",
      "source": [
        "                result = cursor.fetchone()\n"
      ],
      "metadata": {
        "id": "MyJbBhId8_Yw"
      },
      "execution_count": null,
      "outputs": []
    },
    {
      "cell_type": "markdown",
      "source": [
        "Получаем результат запроса.\n",
        "\n"
      ],
      "metadata": {
        "id": "20YVTHW48_k1"
      }
    },
    {
      "cell_type": "code",
      "source": [
        "                if result:\n"
      ],
      "metadata": {
        "id": "DbNakrUE8_1t"
      },
      "execution_count": null,
      "outputs": []
    },
    {
      "cell_type": "markdown",
      "source": [
        "Проверяем, найден ли пользователь."
      ],
      "metadata": {
        "id": "zia_Z6jX9AB6"
      }
    },
    {
      "cell_type": "code",
      "source": [
        "                    session['user'] = {\n",
        "                        'id': result['id'],\n",
        "                        'username': result['name_users']\n",
        "                    }\n"
      ],
      "metadata": {
        "id": "ZetCy1Uq9ALH"
      },
      "execution_count": null,
      "outputs": []
    },
    {
      "cell_type": "markdown",
      "source": [
        "Если пользователь найден, сохраняем его данные в сессии."
      ],
      "metadata": {
        "id": "kRckjae99AZQ"
      }
    },
    {
      "cell_type": "code",
      "source": [
        "                    return redirect(\n",
        "                        url_for('main.warehouse_manager' if session['user']['username'] == current_app.config['ADMIN_NAME'] else 'main.profile'))\n"
      ],
      "metadata": {
        "id": "q36UAqes9Aji"
      },
      "execution_count": null,
      "outputs": []
    },
    {
      "cell_type": "markdown",
      "source": [
        "Перенаправляем пользователя на страницу управления складом или на страницу профиля в зависимости от имени пользователя (по дефолту админом является менеджер склада (зав хоз) (Manager - 1111) )."
      ],
      "metadata": {
        "id": "kGZAKHgr9A5g"
      }
    },
    {
      "cell_type": "code",
      "source": [
        "                else:\n",
        "                    flash('Неверные учетные данные')\n"
      ],
      "metadata": {
        "id": "fE76bcJ49CBH"
      },
      "execution_count": null,
      "outputs": []
    },
    {
      "cell_type": "markdown",
      "source": [
        "Если пользователь не найден, отображаем сообщение об ошибке."
      ],
      "metadata": {
        "id": "a3nH-cMG9CYy"
      }
    },
    {
      "cell_type": "code",
      "source": [
        "    return render_template('login.html')\n"
      ],
      "metadata": {
        "id": "CFNErVeS9Ch7"
      },
      "execution_count": null,
      "outputs": []
    },
    {
      "cell_type": "markdown",
      "source": [
        "Если метод запроса GET, отображаем форму логина."
      ],
      "metadata": {
        "id": "W8TKe1Kn9Cri"
      }
    },
    {
      "cell_type": "markdown",
      "source": [
        "# **Маршрут для выхода из системы**\n"
      ],
      "metadata": {
        "id": "_aHnf6hD9tFP"
      }
    },
    {
      "cell_type": "code",
      "source": [
        "@main.route('/logout')\n"
      ],
      "metadata": {
        "id": "P7TOgzpJ9Cz3"
      },
      "execution_count": null,
      "outputs": []
    },
    {
      "cell_type": "markdown",
      "source": [
        "Декоратор для маршрута /logout."
      ],
      "metadata": {
        "id": "9GCQAKyL9C9F"
      }
    },
    {
      "cell_type": "code",
      "source": [
        "def logout():\n"
      ],
      "metadata": {
        "id": "P4ox_Iq29DGC"
      },
      "execution_count": null,
      "outputs": []
    },
    {
      "cell_type": "markdown",
      "source": [
        "Определяем функцию logout."
      ],
      "metadata": {
        "id": "w2j2EUJe9DO3"
      }
    },
    {
      "cell_type": "code",
      "source": [
        "    session.pop('user', None)\n"
      ],
      "metadata": {
        "id": "Gzywds8I9DYC"
      },
      "execution_count": null,
      "outputs": []
    },
    {
      "cell_type": "markdown",
      "source": [
        "Удаляем данные пользователя из сессии."
      ],
      "metadata": {
        "id": "w6l8QUun9DjE"
      }
    },
    {
      "cell_type": "code",
      "source": [
        "    flash('Вы успешно вышли из системы')\n"
      ],
      "metadata": {
        "id": "QeSuMBgd9Dsc"
      },
      "execution_count": null,
      "outputs": []
    },
    {
      "cell_type": "markdown",
      "source": [
        "Отображаем сообщение о выходе."
      ],
      "metadata": {
        "id": "z0IDEEpb9D1u"
      }
    },
    {
      "cell_type": "code",
      "source": [
        "    return redirect(url_for('main.login'))\n"
      ],
      "metadata": {
        "id": "bNkCU5sm9D_c"
      },
      "execution_count": null,
      "outputs": []
    },
    {
      "cell_type": "markdown",
      "source": [
        "Перенаправляем на страницу логина."
      ],
      "metadata": {
        "id": "WNgRQ-Dx9EI8"
      }
    },
    {
      "cell_type": "markdown",
      "source": [
        "# **Маршрут для профиля пользователя**\n"
      ],
      "metadata": {
        "id": "VJKFlRYz-C5E"
      }
    },
    {
      "cell_type": "code",
      "source": [
        "@main.route('/profile', methods=['GET', 'POST'])\n"
      ],
      "metadata": {
        "id": "eNnQwtBN9ESD"
      },
      "execution_count": null,
      "outputs": []
    },
    {
      "cell_type": "markdown",
      "source": [
        "Декоратор для маршрута /profile, поддерживает методы GET и POST.\n",
        "\n"
      ],
      "metadata": {
        "id": "86t2CXKI9Ebs"
      }
    },
    {
      "cell_type": "code",
      "source": [
        "def profile():\n"
      ],
      "metadata": {
        "id": "9O7HvGZX9Elg"
      },
      "execution_count": null,
      "outputs": []
    },
    {
      "cell_type": "markdown",
      "source": [
        "Определяем функцию profile для обычных смертных"
      ],
      "metadata": {
        "id": "j8WyqsZs9EvT"
      }
    },
    {
      "cell_type": "code",
      "source": [
        "    if 'user' not in session:\n"
      ],
      "metadata": {
        "id": "sfKcaVuP9E8U"
      },
      "execution_count": null,
      "outputs": []
    },
    {
      "cell_type": "markdown",
      "source": [
        "Проверяем, есть ли пользователь в сессии."
      ],
      "metadata": {
        "id": "W_b0hTOx9FF4"
      }
    },
    {
      "cell_type": "code",
      "source": [
        "        return redirect(url_for('main.login'))\n"
      ],
      "metadata": {
        "id": "Vf0YAGWv-ZcL"
      },
      "execution_count": null,
      "outputs": []
    },
    {
      "cell_type": "markdown",
      "source": [
        "Если пользователя нет в сессии, перенаправляем на страницу логина.\n",
        "\n"
      ],
      "metadata": {
        "id": "aSNF2co4-Zqb"
      }
    },
    {
      "cell_type": "code",
      "source": [
        "    username = session['user']['username']\n"
      ],
      "metadata": {
        "id": "YTCSU3jg-Z5B"
      },
      "execution_count": null,
      "outputs": []
    },
    {
      "cell_type": "markdown",
      "source": [
        "Извлекаем username из сессии."
      ],
      "metadata": {
        "id": "nIq6n-nZ-aCX"
      }
    },
    {
      "cell_type": "code",
      "source": [
        "    with get_db_connection() as connection:\n"
      ],
      "metadata": {
        "id": "QUc8CHUx-aLS"
      },
      "execution_count": null,
      "outputs": []
    },
    {
      "cell_type": "markdown",
      "source": [
        "Получаем соединение с базой данных."
      ],
      "metadata": {
        "id": "aqb7iKK1-aTA"
      }
    },
    {
      "cell_type": "code",
      "source": [
        "        with connection.cursor() as cursor:\n"
      ],
      "metadata": {
        "id": "LbVZ1Dma-aap"
      },
      "execution_count": null,
      "outputs": []
    },
    {
      "cell_type": "markdown",
      "source": [
        "Создаем курсор для выполнения запросов к базе данных."
      ],
      "metadata": {
        "id": "2VSXJWAp-ahs"
      }
    },
    {
      "cell_type": "code",
      "source": [
        "            cursor.execute(\n",
        "                \"SELECT id, JSON_UNQUOTE(JSON_EXTRACT(data, '$.name_consumables')) AS name_consumables, JSON_UNQUOTE(JSON_EXTRACT(data, '$.quantity')) AS quantity FROM consumables\")\n"
      ],
      "metadata": {
        "id": "IJdVMu_5-aoO"
      },
      "execution_count": null,
      "outputs": []
    },
    {
      "cell_type": "markdown",
      "source": [
        "Выполняем SQL-запрос для извлечения информации о расходниках."
      ],
      "metadata": {
        "id": "hqjlhZNs-avi"
      }
    },
    {
      "cell_type": "code",
      "source": [
        "            consumables = cursor.fetchall()\n"
      ],
      "metadata": {
        "id": "TamXZjxM-a2p"
      },
      "execution_count": null,
      "outputs": []
    },
    {
      "cell_type": "markdown",
      "source": [
        "Получаем результат запроса."
      ],
      "metadata": {
        "id": "74siJ7iH-a-T"
      }
    },
    {
      "cell_type": "code",
      "source": [
        "            cursor.execute(\n",
        "                \"SELECT JSON_UNQUOTE(JSON_EXTRACT(data, '$.task')) AS task FROM tasks WHERE JSON_UNQUOTE(JSON_EXTRACT(data, '$.name_users')) = %s\",\n",
        "                (username,))\n"
      ],
      "metadata": {
        "id": "otTJ0liH-bGM"
      },
      "execution_count": null,
      "outputs": []
    },
    {
      "cell_type": "markdown",
      "source": [
        "Выполняем SQL-запрос для извлечения задач пользователя."
      ],
      "metadata": {
        "id": "lLdYamRM-bN5"
      }
    },
    {
      "cell_type": "code",
      "source": [
        "            tasks = cursor.fetchall()\n"
      ],
      "metadata": {
        "id": "NBgDShH7-bVv"
      },
      "execution_count": null,
      "outputs": []
    },
    {
      "cell_type": "markdown",
      "source": [
        "Получаем результат запроса о ежедневных задачах сотрудников."
      ],
      "metadata": {
        "id": "2Gn3gZAU-bdl"
      }
    },
    {
      "cell_type": "code",
      "source": [
        "    if request.method == 'POST':\n"
      ],
      "metadata": {
        "id": "0tYf9Y2A-boU"
      },
      "execution_count": null,
      "outputs": []
    },
    {
      "cell_type": "markdown",
      "source": [
        "Проверяем, является ли метод запроса POST. (это когда мы выбираем расходник и нажимаем на кнопку получить)"
      ],
      "metadata": {
        "id": "iak72EWP-byw"
      }
    },
    {
      "cell_type": "code",
      "source": [
        "        consumable_id = request.form['consumable_id']\n"
      ],
      "metadata": {
        "id": "GHsCfEJs-b6i"
      },
      "execution_count": null,
      "outputs": []
    },
    {
      "cell_type": "markdown",
      "source": [
        "Извлекаем значение consumable_id (название расходника, вроде название, ну может это номер по списку, но в итоге получим название в таблице) из данных формы."
      ],
      "metadata": {
        "id": "1iSGSRj_-cDP"
      }
    },
    {
      "cell_type": "code",
      "source": [
        "        quantity_requested = int(request.form['quantity'])\n"
      ],
      "metadata": {
        "id": "ajm7v_qE-cL6"
      },
      "execution_count": null,
      "outputs": []
    },
    {
      "cell_type": "markdown",
      "source": [
        "Извлекаем значение quantity из данных формы и преобразуем его в целое число.\n",
        "\n",
        "(количество пельменей, которые мы хотим взять со склада)"
      ],
      "metadata": {
        "id": "yGqSGjB6-cVO"
      }
    },
    {
      "cell_type": "code",
      "source": [
        "        request_code = random.randint(100000, 999999)\n"
      ],
      "metadata": {
        "id": "dPt8NGAC-cdn"
      },
      "execution_count": null,
      "outputs": []
    },
    {
      "cell_type": "markdown",
      "source": [
        "Генерируем случайный request_code. (код запроса для получения расходника)"
      ],
      "metadata": {
        "id": "I26KFL4J-cnO"
      }
    },
    {
      "cell_type": "code",
      "source": [
        "        session['request'] = {\n",
        "            \"user\": username,\n",
        "            \"consumable_id\": consumable_id,\n",
        "            \"quantity_requested\": quantity_requested,\n",
        "            \"request_code\": request_code\n",
        "        }\n"
      ],
      "metadata": {
        "id": "NTpipU6i-cwX"
      },
      "execution_count": null,
      "outputs": []
    },
    {
      "cell_type": "markdown",
      "source": [
        "Сохраняем запрос в сессии."
      ],
      "metadata": {
        "id": "JaN-1UlX-c60"
      }
    },
    {
      "cell_type": "code",
      "source": [
        "        return redirect(url_for('main.code', request_code=request_code))\n"
      ],
      "metadata": {
        "id": "zVmDcs6H-dF1"
      },
      "execution_count": null,
      "outputs": []
    },
    {
      "cell_type": "markdown",
      "source": [
        "Перенаправляем на страницу с кодом запроса."
      ],
      "metadata": {
        "id": "leS9HNvlACZA"
      }
    },
    {
      "cell_type": "code",
      "source": [
        "    return render_template('profile.html', consumables=consumables, tasks=tasks, username=username)\n"
      ],
      "metadata": {
        "id": "joRLNlAIAGD1"
      },
      "execution_count": null,
      "outputs": []
    },
    {
      "cell_type": "markdown",
      "source": [
        "Если метод запроса GET, отображаем профиль пользователя с информацией о расходниках и задачах."
      ],
      "metadata": {
        "id": "7H29hRzAAHEp"
      }
    },
    {
      "cell_type": "markdown",
      "source": [
        "# **Маршрут для отображения кода запроса**\n"
      ],
      "metadata": {
        "id": "-iDxzG8jAHMK"
      }
    },
    {
      "cell_type": "code",
      "source": [
        "@main.route('/code')\n"
      ],
      "metadata": {
        "id": "ccffDuV9AHlI"
      },
      "execution_count": null,
      "outputs": []
    },
    {
      "cell_type": "markdown",
      "source": [
        "Декоратор для маршрута /code"
      ],
      "metadata": {
        "id": "aZM97vppAHxH"
      }
    },
    {
      "cell_type": "code",
      "source": [
        "def code():\n"
      ],
      "metadata": {
        "id": "l_vo7YYdAH8i"
      },
      "execution_count": null,
      "outputs": []
    },
    {
      "cell_type": "markdown",
      "source": [
        "Определяем функцию code."
      ],
      "metadata": {
        "id": "yQ-zyZ--AIFQ"
      }
    },
    {
      "cell_type": "code",
      "source": [
        "    request_code = request.args.get('request_code')\n"
      ],
      "metadata": {
        "id": "Mqrfq772AIOm"
      },
      "execution_count": null,
      "outputs": []
    },
    {
      "cell_type": "markdown",
      "source": [
        "Извлекаем значение request_code из параметров запроса.\n",
        "\n"
      ],
      "metadata": {
        "id": "_qTwj-8-AIXR"
      }
    },
    {
      "cell_type": "code",
      "source": [
        "    if not request_code:\n"
      ],
      "metadata": {
        "id": "mVL8U_KJAIgk"
      },
      "execution_count": null,
      "outputs": []
    },
    {
      "cell_type": "markdown",
      "source": [
        "Проверяем, существует ли request_code.\n",
        "\n"
      ],
      "metadata": {
        "id": "2fXlRJ2SAIpn"
      }
    },
    {
      "cell_type": "code",
      "source": [
        "        return redirect(url_for('main.profile'))\n"
      ],
      "metadata": {
        "id": "TedL5dSUAI0F"
      },
      "execution_count": null,
      "outputs": []
    },
    {
      "cell_type": "markdown",
      "source": [
        "Если request_code отсутствует, перенаправляем на страницу профиля.\n",
        "\n"
      ],
      "metadata": {
        "id": "kPwpvYIJAI9b"
      }
    },
    {
      "cell_type": "code",
      "source": [
        "    return render_template('code.html', request_code=request_code)\n"
      ],
      "metadata": {
        "id": "y3rxrJQCAJGe"
      },
      "execution_count": null,
      "outputs": []
    },
    {
      "cell_type": "markdown",
      "source": [
        "Если request_code присутствует, отображаем страницу с кодом запроса.\n",
        "\n"
      ],
      "metadata": {
        "id": "HeFFx7h7Anr7"
      }
    },
    {
      "cell_type": "markdown",
      "source": [
        "# **Маршрут для управления складом**"
      ],
      "metadata": {
        "id": "_U8ZT2bTAou5"
      }
    },
    {
      "cell_type": "code",
      "source": [
        "@main.route('/warehouse_manager', methods=['GET', 'POST'])\n"
      ],
      "metadata": {
        "id": "qBJPG2phAo7i"
      },
      "execution_count": null,
      "outputs": []
    },
    {
      "cell_type": "markdown",
      "source": [
        "Декоратор для маршрута /warehouse_manager, поддерживает методы GET и POST. Админская страница\n",
        "\n"
      ],
      "metadata": {
        "id": "Kzks0HVUAppb"
      }
    },
    {
      "cell_type": "code",
      "source": [
        "def warehouse_manager():\n"
      ],
      "metadata": {
        "id": "p4r0RByoApG5"
      },
      "execution_count": null,
      "outputs": []
    },
    {
      "cell_type": "markdown",
      "source": [
        "Определяем функцию warehouse_manager.\n",
        "\n"
      ],
      "metadata": {
        "id": "GZBisdiLA1Q6"
      }
    },
    {
      "cell_type": "code",
      "source": [
        "    if 'user' not in session or session['user']['username'] != current_app.config['ADMIN_NAME']:\n"
      ],
      "metadata": {
        "id": "OASBCbz2A1bK"
      },
      "execution_count": null,
      "outputs": []
    },
    {
      "cell_type": "markdown",
      "source": [
        "Проверяем, есть ли пользователь в сессии и является ли он администратором.\n",
        "\n"
      ],
      "metadata": {
        "id": "_VYjiMWsA1kt"
      }
    },
    {
      "cell_type": "code",
      "source": [
        "        return redirect(url_for('main.login'))\n"
      ],
      "metadata": {
        "id": "qBe52at7A1u0"
      },
      "execution_count": null,
      "outputs": []
    },
    {
      "cell_type": "markdown",
      "source": [
        "Если пользователя нет в сессии или он не является администратором, перенаправляем на страницу логина."
      ],
      "metadata": {
        "id": "tc3ROitrA13d"
      }
    },
    {
      "cell_type": "code",
      "source": [
        "    with get_db_connection() as connection:\n"
      ],
      "metadata": {
        "id": "nWbm5pxzA2BW"
      },
      "execution_count": null,
      "outputs": []
    },
    {
      "cell_type": "markdown",
      "source": [
        "Получаем соединение с базой данных.\n",
        "\n"
      ],
      "metadata": {
        "id": "0Z0_JhSnA2Kq"
      }
    },
    {
      "cell_type": "code",
      "source": [
        "        with connection.cursor() as cursor:\n"
      ],
      "metadata": {
        "id": "5qXOHmdMA2UY"
      },
      "execution_count": null,
      "outputs": []
    },
    {
      "cell_type": "markdown",
      "source": [
        "Создаем курсор для выполнения запросов к базе данных.\n",
        "\n"
      ],
      "metadata": {
        "id": "uBG8UDO0A2eX"
      }
    },
    {
      "cell_type": "code",
      "source": [
        "            cursor.execute(\n",
        "                \"SELECT id, JSON_UNQUOTE(JSON_EXTRACT(data, '$.name_users')) AS name_users, JSON_UNQUOTE(JSON_EXTRACT(data, '$.password')) AS password FROM users\")\n"
      ],
      "metadata": {
        "id": "SWBFi6gaA2pS"
      },
      "execution_count": null,
      "outputs": []
    },
    {
      "cell_type": "markdown",
      "source": [
        "Выполняем SQL-запрос для извлечения информации о пользователях.\n",
        "\n"
      ],
      "metadata": {
        "id": "JC5Bvw7uA2xf"
      }
    },
    {
      "cell_type": "code",
      "source": [
        "            users = cursor.fetchall()\n"
      ],
      "metadata": {
        "id": "7StqsYt6A27v"
      },
      "execution_count": null,
      "outputs": []
    },
    {
      "cell_type": "markdown",
      "source": [
        "Получаем результат запроса.\n",
        "\n"
      ],
      "metadata": {
        "id": "XNAnXwweBKkp"
      }
    },
    {
      "cell_type": "code",
      "source": [
        "            cursor.execute(\n",
        "                \"SELECT id, JSON_UNQUOTE(JSON_EXTRACT(data, '$.name_consumables')) AS name_consumables, JSON_UNQUOTE(JSON_EXTRACT(data, '$.quantity')) AS quantity FROM consumables\")\n"
      ],
      "metadata": {
        "id": "_LbZdOTXBKvc"
      },
      "execution_count": null,
      "outputs": []
    },
    {
      "cell_type": "markdown",
      "source": [
        "Выполняем SQL-запрос для извлечения информации о расходниках.\n",
        "\n"
      ],
      "metadata": {
        "id": "Q5oeys9cBK4p"
      }
    },
    {
      "cell_type": "code",
      "source": [
        "            consumables = cursor.fetchall()\n"
      ],
      "metadata": {
        "id": "iaz04VY-BLBJ"
      },
      "execution_count": null,
      "outputs": []
    },
    {
      "cell_type": "markdown",
      "source": [
        "Получаем результат запроса.\n",
        "\n"
      ],
      "metadata": {
        "id": "VmdnC8wOBLKW"
      }
    },
    {
      "cell_type": "code",
      "source": [
        "            cursor.execute(\n",
        "                \"SELECT JSON_UNQUOTE(JSON_EXTRACT(data, '$.name_users')) AS name_users, JSON_UNQUOTE(JSON_EXTRACT(data, '$.task')) AS task FROM tasks\")\n"
      ],
      "metadata": {
        "id": "0jzLcb95BLTY"
      },
      "execution_count": null,
      "outputs": []
    },
    {
      "cell_type": "markdown",
      "source": [
        "Выполняем SQL-запрос для извлечения информации о задачах сотрудников.\n",
        "\n"
      ],
      "metadata": {
        "id": "e673SvOwBLbq"
      }
    },
    {
      "cell_type": "code",
      "source": [
        "            tasks = cursor.fetchall()\n"
      ],
      "metadata": {
        "id": "H_5JV_IpBLk9"
      },
      "execution_count": null,
      "outputs": []
    },
    {
      "cell_type": "markdown",
      "source": [
        "Получаем результат запроса.\n",
        "\n"
      ],
      "metadata": {
        "id": "PdDJ9hUABLsz"
      }
    },
    {
      "cell_type": "code",
      "source": [
        "            cursor.execute(\n",
        "                \"SELECT JSON_UNQUOTE(JSON_EXTRACT(data, '$.name_users')) AS name_users, JSON_UNQUOTE(JSON_EXTRACT(data, '$.name_consumables')) AS name_consumables, JSON_UNQUOTE(JSON_EXTRACT(data, '$.quantity')) AS quantity, JSON_UNQUOTE(JSON_EXTRACT(data, '$.time')) AS time FROM history_user\")\n"
      ],
      "metadata": {
        "id": "4SUTQAx7BL1x"
      },
      "execution_count": null,
      "outputs": []
    },
    {
      "cell_type": "markdown",
      "source": [
        "Выполняем SQL-запрос для извлечения истории выдачи расходников со склада (кто взял, что взял, сколько взял и во сколько это взял (время)).\n",
        "\n"
      ],
      "metadata": {
        "id": "DLW1S7joBL-u"
      }
    },
    {
      "cell_type": "code",
      "source": [
        "            history_user = cursor.fetchall()\n"
      ],
      "metadata": {
        "id": "d_c3P_BGBMHX"
      },
      "execution_count": null,
      "outputs": []
    },
    {
      "cell_type": "markdown",
      "source": [
        "Получаем результат запроса.\n",
        "\n"
      ],
      "metadata": {
        "id": "CMX51zv3BMQD"
      }
    },
    {
      "cell_type": "code",
      "source": [
        "    request_data = None\n"
      ],
      "metadata": {
        "id": "eV9qS4Z7BMYp"
      },
      "execution_count": null,
      "outputs": []
    },
    {
      "cell_type": "markdown",
      "source": [
        "Инициализируем переменную request_data.\n",
        "\n"
      ],
      "metadata": {
        "id": "FuyiDp-WBMgx"
      }
    },
    {
      "cell_type": "code",
      "source": [
        "    if request.method == 'POST':\n"
      ],
      "metadata": {
        "id": "2UbT9Ih0B9rg"
      },
      "execution_count": null,
      "outputs": []
    },
    {
      "cell_type": "markdown",
      "source": [
        "Проверяем, является ли метод запроса POST.\n",
        "\n"
      ],
      "metadata": {
        "id": "17GhIhW9B-0x"
      }
    },
    {
      "cell_type": "code",
      "source": [
        "        request_code = request.form['request_code']\n"
      ],
      "metadata": {
        "id": "yUNKz9c8CBi4"
      },
      "execution_count": null,
      "outputs": []
    },
    {
      "cell_type": "markdown",
      "source": [
        "Извлекаем значение request_code из данных формы.\n",
        "\n"
      ],
      "metadata": {
        "id": "9UCE2JQaCBtG"
      }
    },
    {
      "cell_type": "code",
      "source": [
        "        request_data = session.pop('request', None)\n"
      ],
      "metadata": {
        "id": "iQKWME22CB39"
      },
      "execution_count": null,
      "outputs": []
    },
    {
      "cell_type": "markdown",
      "source": [
        "Извлекаем запрос из сессии и удаляем его.\n"
      ],
      "metadata": {
        "id": "WV97JH1RCCBi"
      }
    },
    {
      "cell_type": "code",
      "source": [
        "        if request_data and request_data['request_code'] == int(request_code):\n",
        "\n"
      ],
      "metadata": {
        "id": "_anx38I8CCK8"
      },
      "execution_count": null,
      "outputs": []
    },
    {
      "cell_type": "markdown",
      "source": [
        "Проверяем, существует ли запрос и совпадает ли код запроса.\n",
        "\n"
      ],
      "metadata": {
        "id": "c-3OTSFgCCg-"
      }
    },
    {
      "cell_type": "code",
      "source": [
        "            user = request_data['user']\n"
      ],
      "metadata": {
        "id": "-2lM_AyPCCsW"
      },
      "execution_count": null,
      "outputs": []
    },
    {
      "cell_type": "markdown",
      "source": [
        "Извлекаем значение user из запроса.\n",
        "\n"
      ],
      "metadata": {
        "id": "K3Xzkwn5CC9E"
      }
    },
    {
      "cell_type": "code",
      "source": [
        "            consumable_id = request_data['consumable_id']\n"
      ],
      "metadata": {
        "id": "sTCKkDZ5CDHc"
      },
      "execution_count": null,
      "outputs": []
    },
    {
      "cell_type": "markdown",
      "source": [
        "Извлекаем значение consumable_id из запроса.\n",
        "\n"
      ],
      "metadata": {
        "id": "ePU6yjzECDP0"
      }
    },
    {
      "cell_type": "code",
      "source": [
        "            quantity_requested = request_data['quantity_requested']\n"
      ],
      "metadata": {
        "id": "2C92Oq7-CDYW"
      },
      "execution_count": null,
      "outputs": []
    },
    {
      "cell_type": "markdown",
      "source": [
        "Извлекаем значение quantity_requested из запроса.\n",
        "\n"
      ],
      "metadata": {
        "id": "ij4IeSULCDhk"
      }
    },
    {
      "cell_type": "code",
      "source": [
        "            with get_db_connection() as connection:\n"
      ],
      "metadata": {
        "id": "TQs4ihYSCDqn"
      },
      "execution_count": null,
      "outputs": []
    },
    {
      "cell_type": "markdown",
      "source": [
        "Получаем соединение с базой данных.\n",
        "\n"
      ],
      "metadata": {
        "id": "ytbloxmbCDzS"
      }
    },
    {
      "cell_type": "code",
      "source": [
        "                with connection.cursor() as cursor:\n"
      ],
      "metadata": {
        "id": "bUutwX-XCD9m"
      },
      "execution_count": null,
      "outputs": []
    },
    {
      "cell_type": "markdown",
      "source": [
        "Создаем курсор для выполнения запросов к базе данных.\n",
        "\n"
      ],
      "metadata": {
        "id": "dBUCoOeOClJx"
      }
    },
    {
      "cell_type": "code",
      "source": [
        "                    cursor.execute(\n",
        "                        \"SELECT id, JSON_UNQUOTE(JSON_EXTRACT(data, '$.name_consumables')) AS name_consumables, JSON_UNQUOTE(JSON_EXTRACT(data, '$.quantity')) AS quantity FROM consumables WHERE id = %s\",\n",
        "                        (consumable_id,))\n"
      ],
      "metadata": {
        "id": "tm-iWf4sClT2"
      },
      "execution_count": null,
      "outputs": []
    },
    {
      "cell_type": "markdown",
      "source": [
        "Выполняем SQL-запрос для извлечения информации о конкретном расходнике.\n",
        "\n"
      ],
      "metadata": {
        "id": "378x1wxKClcN"
      }
    },
    {
      "cell_type": "code",
      "source": [
        "                    consumable = cursor.fetchone()\n"
      ],
      "metadata": {
        "id": "kh3Do0aQClkB"
      },
      "execution_count": null,
      "outputs": []
    },
    {
      "cell_type": "markdown",
      "source": [
        "Получаем результат запроса.\n",
        "\n"
      ],
      "metadata": {
        "id": "Zqlou8Y_CluM"
      }
    },
    {
      "cell_type": "code",
      "source": [
        "                    if consumable and int(consumable['quantity']) >= quantity_requested:\n"
      ],
      "metadata": {
        "id": "HLIfXzK_CmcW"
      },
      "execution_count": null,
      "outputs": []
    },
    {
      "cell_type": "markdown",
      "source": [
        "Проверяем, существует ли расходник и достаточно ли его количества.\n",
        "\n"
      ],
      "metadata": {
        "id": "VKTOeEnpCmrt"
      }
    },
    {
      "cell_type": "code",
      "source": [
        "                        new_quantity = int(consumable['quantity']) - quantity_requested\n"
      ],
      "metadata": {
        "id": "F3pRRY6bCm1V"
      },
      "execution_count": null,
      "outputs": []
    },
    {
      "cell_type": "markdown",
      "source": [
        "Вычисляем новое количество расходника.\n",
        "\n"
      ],
      "metadata": {
        "id": "i6yawS9bCm_r"
      }
    },
    {
      "cell_type": "code",
      "source": [
        "                        cursor.execute(\n",
        "                            \"UPDATE consumables SET data = JSON_SET(data, '$.quantity', %s) WHERE id = %s\",\n",
        "                            (new_quantity, consumable_id))\n"
      ],
      "metadata": {
        "id": "Dr9i5LFECnKB"
      },
      "execution_count": null,
      "outputs": []
    },
    {
      "cell_type": "markdown",
      "source": [
        "Выполняем SQL-запрос для обновления количества расходника в базе данных.\n",
        "\n"
      ],
      "metadata": {
        "id": "G0f4WTOgCnUC"
      }
    },
    {
      "cell_type": "code",
      "source": [
        "                        connection.commit()\n"
      ],
      "metadata": {
        "id": "R4AjtNfmCnjR"
      },
      "execution_count": null,
      "outputs": []
    },
    {
      "cell_type": "markdown",
      "source": [
        "Подтверждаем изменения в базе данных.\n",
        "\n"
      ],
      "metadata": {
        "id": "3DUDj2DyC7dg"
      }
    },
    {
      "cell_type": "code",
      "source": [
        "                        now = datetime.now().strftime('%Y-%m-%d %H:%M:%S')\n"
      ],
      "metadata": {
        "id": "GuzmiHQ6C89x"
      },
      "execution_count": null,
      "outputs": []
    },
    {
      "cell_type": "markdown",
      "source": [
        "Получаем текущее время в формате строки.\n",
        "\n"
      ],
      "metadata": {
        "id": "MY_fHbNLC9Lc"
      }
    },
    {
      "cell_type": "code",
      "source": [
        "                        cursor.execute(\"INSERT INTO history_user (data) VALUES (%s)\", (json.dumps({\n",
        "                            \"name_users\": user,\n",
        "                            \"name_consumables\": consumable['name_consumables'],\n",
        "                            \"quantity\": quantity_requested,\n",
        "                            \"time\": now\n",
        "                        }),))\n"
      ],
      "metadata": {
        "id": "o1_UYV8YC9gK"
      },
      "execution_count": null,
      "outputs": []
    },
    {
      "cell_type": "markdown",
      "source": [
        "Выполняем SQL-запрос для добавления записи в историю выдачи расходников.\n",
        "\n"
      ],
      "metadata": {
        "id": "atWBz5X7C9rF"
      }
    },
    {
      "cell_type": "code",
      "source": [
        "                        connection.commit()\n"
      ],
      "metadata": {
        "id": "oOvw5kq5C910"
      },
      "execution_count": null,
      "outputs": []
    },
    {
      "cell_type": "markdown",
      "source": [
        "Подтверждаем изменения в базе данных.\n",
        "\n"
      ],
      "metadata": {
        "id": "xyFmvBkVC9_L"
      }
    },
    {
      "cell_type": "code",
      "source": [
        "                        flash('Запрос выполнен успешно!')\n"
      ],
      "metadata": {
        "id": "lhWUrdgdC-Ik"
      },
      "execution_count": null,
      "outputs": []
    },
    {
      "cell_type": "markdown",
      "source": [
        "Отображаем сообщение об успешном выполнении запроса.\n",
        "\n"
      ],
      "metadata": {
        "id": "WMSDu_OsC-Sb"
      }
    },
    {
      "cell_type": "code",
      "source": [
        "                    else:\n",
        "                        flash('Недостаточно расходных материалов на складе!')\n"
      ],
      "metadata": {
        "id": "uYJCrFa4C-3V"
      },
      "execution_count": null,
      "outputs": []
    },
    {
      "cell_type": "markdown",
      "source": [
        "Если недостаточно расходных материалов, отображаем сообщение об ошибке.\n",
        "\n"
      ],
      "metadata": {
        "id": "FyZ_vnQ5C_Hi"
      }
    },
    {
      "cell_type": "code",
      "source": [
        "        else:\n",
        "            flash('Неверный код запроса!')\n"
      ],
      "metadata": {
        "id": "b4L1VSw-C_T0"
      },
      "execution_count": null,
      "outputs": []
    },
    {
      "cell_type": "markdown",
      "source": [
        "Если запрос не найден или код не совпадает, отображаем сообщение об ошибке.\n",
        "\n"
      ],
      "metadata": {
        "id": "JocmBAcQC_dj"
      }
    },
    {
      "cell_type": "code",
      "source": [
        "    return render_template('warehouse_manager.html', users=users, requests=[request_data] if request_data else [],\n",
        "                           consumables=consumables, tasks=tasks, history_user=history_user)\n"
      ],
      "metadata": {
        "id": "2KHcHGkSC_nx"
      },
      "execution_count": null,
      "outputs": []
    },
    {
      "cell_type": "markdown",
      "source": [
        "Если метод запроса GET, отображаем страницу управления складом с информацией о пользователях, расходниках, задачах и истории выдачи."
      ],
      "metadata": {
        "id": "DCm_lJw5C_xx"
      }
    }
  ]
}